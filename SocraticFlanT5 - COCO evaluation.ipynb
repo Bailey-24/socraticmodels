{
 "cells": [
  {
   "cell_type": "markdown",
   "id": "ea8922b4",
   "metadata": {},
   "source": [
    "# SocraticFlanT5 - Evaluation on MS COCO | DL2 Mini-project, May 2023\n",
    "---\n",
    "\n",
    "This notebook downloads the images from the validation split of the [MS COCO Dataset (2017 version)](https://cocodataset.org/#download) and the corresponding ground-truth captions, generates captions based on the Socratic model pipeline outlined below, and evaluates the generated captions based on the MS COCO ground-truth captions. We will evaluate the folowing two approaches: \n",
    "1. Baseline: a Socratic model based on the work by [Zeng et al. (2022)](https://socraticmodels.github.io/) where GPT-3 is replaced by [FLAN-T5-xl](https://huggingface.co/docs/transformers/model_doc/flan-t5). \n",
    "\n",
    "2. Improved prompting: an improved baseline model where the template prompt filled by CLIP is processed before passing to FLAN-T5-xl.\n",
    "\n",
    "There are two approaches to this evaluation: rule-based and embedding-based.\n",
    "\n",
    "---\n",
    "For the **rule-based approach**, the following metrics will be used, based on [this](https://github.com/salaniz/pycocoevalcap) repository:\n",
    "\n",
    "* *BLEU-4*: BLEU (Bilingual Evaluation Understudy) is a metric that measures the similarity between the generated captions and the ground truth captions based on n-gram matching. The BLEU-4 score measures the precision of the generated captions up to four-grams compared to the ground truth captions.\n",
    "\n",
    "* *METEOR*: METEOR (Metric for Evaluation of Translation with Explicit ORdering) is another metric that measures the similarity between the generated captions and the ground truth captions. It also takes into account word order and synonymy by using a set of reference summaries to compute a harmonic mean of precision and recall.\n",
    "\n",
    "* *CIDEr*: CIDEr (Consensus-based Image Description Evaluation) is a metric that measures the consensus between the generated captions and the ground truth captions. It computes the similarity between the generated captions and the reference captions based on their TF-IDF weights, which helps capture important words in the captions.\n",
    "\n",
    "* *SPICE*: SPICE (Semantic Propositional Image Caption Evaluation) is a metric that measures the semantic similarity between the generated captions and the ground truth captions. It analyzes the similarity between the semantic propositions present in the generated captions and those in the reference captions, taking into account the structure and meaning of the propositions.\n",
    "\n",
    "* *ROUGE-L*: ROUGE (Recall-Oriented Understudy for Gisting Evaluation) is a metric that measures the similarity between the generated captions and the ground truth captions based on overlapping sequences of words. ROUGE-L measures the longest common subsequence (LCS) between the generated captions and the reference captions, taking into account sentence-level structure and word order.\n",
    "\n",
    "---\n",
    "\n",
    "For the **embedding-based** approach (based on CLIP embeddings), we calculate the cosine similarities between each image embedding and embeddings of the ground truth captions and then we calculate the cosine similarities between each image embedding and embeddings of the captions generated with FLAN-T5-xl."
   ]
  },
  {
   "cell_type": "markdown",
   "id": "3f113757",
   "metadata": {},
   "source": [
    "### Loading the required packages"
   ]
  },
  {
   "cell_type": "code",
   "execution_count": 2,
   "id": "bf54b316",
   "metadata": {},
   "outputs": [],
   "source": [
    "from image_captioning import ClipManager, ImageManager, VocabManager, FlanT5Manager, COCOManager\n",
    "from eval import SocraticEvalCap\n",
    "from utils import get_device\n",
    "import os\n",
    "import re\n",
    "import json\n",
    "import numpy as np\n",
    "import pickle\n",
    "import time\n",
    "import random"
   ]
  },
  {
   "cell_type": "markdown",
   "id": "c2e8d7c5",
   "metadata": {},
   "source": [
    "### Step 1: Downloading the MS COCO images and annotations"
   ]
  },
  {
   "cell_type": "code",
   "execution_count": 3,
   "id": "656586fc",
   "metadata": {},
   "outputs": [],
   "source": [
    "coco_manager = COCOManager()\n",
    "coco_manager.download_data()"
   ]
  },
  {
   "cell_type": "markdown",
   "id": "fe486c0d",
   "metadata": {},
   "source": [
    "### Step 2: Generating the captions via the Socratic pipeline\n"
   ]
  },
  {
   "cell_type": "markdown",
   "id": "b2c61963",
   "metadata": {},
   "source": [
    "#### Set the device and instantiate managers"
   ]
  },
  {
   "cell_type": "code",
   "execution_count": 4,
   "id": "bcab3ce1",
   "metadata": {},
   "outputs": [
    {
     "name": "stdout",
     "output_type": "stream",
     "text": [
      "load_places starting!\n",
      "load_places took 0.0s!\n",
      "load_objects starting!\n",
      "load_objects took 0.0s!\n"
     ]
    }
   ],
   "source": [
    "# Set the device to use\n",
    "device = get_device()\n",
    "\n",
    "# Instantiate the clip manager\n",
    "clip_manager = ClipManager(device)\n",
    "\n",
    "# Instantiate the image manager\n",
    "image_manager = ImageManager()\n",
    "\n",
    "# Instantiate the vocab manager\n",
    "vocab_manager = VocabManager()"
   ]
  },
  {
   "cell_type": "markdown",
   "id": "3030c49d",
   "metadata": {},
   "source": [
    "#### Compute place and object features"
   ]
  },
  {
   "cell_type": "code",
   "execution_count": 5,
   "id": "8b1164dc",
   "metadata": {},
   "outputs": [],
   "source": [
    "# Calculate the place features\n",
    "if not os.path.exists('cache/place_feats.npy'):\n",
    "\n",
    "    # Calculate the place features\n",
    "    place_feats = clip_manager.get_text_feats([f'Photo of a {p}.' for p in vocab_manager.place_list])\n",
    "    np.save('cache/place_feats.npy', place_feats)\n",
    "else:\n",
    "    place_feats = np.load('cache/place_feats.npy')\n",
    "\n",
    "# Calculate the object features\n",
    "if not os.path.exists('cache/object_feats.npy'):\n",
    "    # Calculate the object features\n",
    "    object_feats = clip_manager.get_text_feats([f'Photo of a {o}.' for o in vocab_manager.object_list])\n",
    "    np.save('cache/object_feats.npy', object_feats)\n",
    "else:\n",
    "    object_feats = np.load('cache/object_feats.npy')"
   ]
  },
  {
   "cell_type": "markdown",
   "id": "dd7bdca8",
   "metadata": {},
   "source": [
    "#### Define the parameters of the template prompt passed to the VLM (CLIP)"
   ]
  },
  {
   "cell_type": "code",
   "execution_count": 7,
   "id": "d414536e",
   "metadata": {},
   "outputs": [
    {
     "name": "stdout",
     "output_type": "stream",
     "text": [
      "get_text_feats starting!\n",
      "get_text_feats took 0.8s!\n",
      "get_text_feats starting!\n",
      "get_text_feats took 0.1s!\n"
     ]
    }
   ],
   "source": [
    "# Zero-shot VLM: classify image type\n",
    "img_types = ['photo', 'cartoon', 'sketch', 'painting']\n",
    "img_types_feats = clip_manager.get_text_feats([f'This is a {t}.' for t in img_types])\n",
    "\n",
    "# Zero-shot VLM: classify number of people\n",
    "ppl_texts = ['no people', 'people']\n",
    "ppl_feats = clip_manager.get_text_feats([f'There are {p} in this photo.' for p in ppl_texts])\n",
    "\n",
    "# Zero-shot VLM: how many top places are returned by the VLM\n",
    "place_topk = 3\n",
    "\n",
    "# Zero-shot VLM: how many top objects are returned by the VLM\n",
    "obj_topk = 10\n",
    "\n",
    "# Zero-shot LM: how many captions are generated\n",
    "num_captions = 10"
   ]
  },
  {
   "cell_type": "markdown",
   "id": "f31213b8",
   "metadata": {},
   "source": [
    "#### Generate image captions"
   ]
  },
  {
   "cell_type": "code",
   "execution_count": null,
   "id": "37981b58",
   "metadata": {},
   "outputs": [],
   "source": [
    "# A helper function to caption s single image\n",
    "def caption_this_image(filename, imgs_folder, ix, random_numbers, image_manager, clip_manager, vocab_manager, flan_manager):\n",
    "    start_time = time.time()\n",
    "    if file_name.endswith(\".jpg\") and ix in random_numbers:  # consider only image files\n",
    "        # Getting image id\n",
    "        file_name_strip = file_name.strip('.jpg')\n",
    "        match = re.search('^0+', file_name_strip)\n",
    "        sequence = match.group(0)\n",
    "        image_id = int(file_name_strip[len(sequence):])\n",
    "\n",
    "        img_path = os.path.join(imgs_folder, file_name)\n",
    "        img = image_manager.load_image(img_path)\n",
    "        img_feats = clip_manager.get_img_feats(img)\n",
    "        img_feats = img_feats.flatten()\n",
    "        \n",
    "\n",
    "        # Zero-shot VLM: classify image type.\n",
    "        sorted_img_types, img_type_scores = clip_manager.get_nn_text(img_types, img_types_feats, img_feats)\n",
    "        img_type = sorted_img_types[0]\n",
    "\n",
    "        # Zero-shot VLM: classify number of people.\n",
    "        sorted_ppl_texts, ppl_scores = clip_manager.get_nn_text(ppl_texts, ppl_feats, img_feats)\n",
    "        ppl_result = sorted_ppl_texts[0]\n",
    "        if ppl_result == 'people':\n",
    "            ppl_texts = ['is one person', 'are two people', 'are three people', 'are several people', 'are many people']\n",
    "            ppl_feats = clip_manager.get_text_feats([f'There {p} in this photo.' for p in ppl_texts])\n",
    "            sorted_ppl_texts, ppl_scores = clip_manager.get_nn_text(ppl_texts, ppl_feats, img_feats)\n",
    "            ppl_result = sorted_ppl_texts[0]\n",
    "        else:\n",
    "            ppl_result = f'are {ppl_result}'\n",
    "\n",
    "        # Zero-shot VLM: classify places.\n",
    "        sorted_places, places_scores = clip_manager.get_nn_text(vocab_manager.place_list, place_feats, img_feats)\n",
    "\n",
    "        # Zero-shot VLM: classify objects.\n",
    "        sorted_obj_texts, obj_scores = clip_manager.get_nn_text(vocab_manager.object_list, object_feats, img_feats)\n",
    "        object_list = ''\n",
    "        for i in range(obj_topk):\n",
    "            object_list += f'{sorted_obj_texts[i]}, '\n",
    "        object_list = object_list[:-2]\n",
    "\n",
    "        # Zero-shot LM: generate captions.\n",
    "        prompt = f'''I am an intelligent image captioning bot.\n",
    "        This image is a {img_type}. There {ppl_result}.\n",
    "        I think this photo was taken at a {sorted_places[0]}, {sorted_places[1]}, or {sorted_places[2]}.\n",
    "        I think there might be a {object_list} in this {img_type}.\n",
    "        A creative short caption I can generate to describe this image is:'''\n",
    "\n",
    "        # Generate multiple captions\n",
    "        model_params = {'temperature': 0.9, 'max_length': 40, 'do_sample': True}\n",
    "        caption_texts = flan_manager.generate_response(num_captions * [prompt], model_params)\n",
    "\n",
    "        # Zero-shot VLM: rank captions.\n",
    "        caption_feats = clip_manager.get_text_feats(caption_texts)\n",
    "        sorted_captions, caption_scores = clip_manager.get_nn_text(caption_texts, caption_feats, img_feats)\n",
    "        best_caption = sorted_captions[0]\n",
    "        print(f'time taken {time.time()-start_time}')\n",
    "        cpt_feats = clip_manager.get_text_feats([best_caption]).flatten()\n",
    "\n",
    "        return image_id, best_caption, img_feats, cpt_feats\n",
    "    "
   ]
  },
  {
   "cell_type": "code",
   "execution_count": null,
   "id": "b0a0ccf3",
   "metadata": {},
   "outputs": [],
   "source": [
    "if not os.path.exists('cache/res.pickle'):\n",
    "    # Instantiate the Flan T5 manager\n",
    "    flan_manager = FlanT5Manager(version=\"google/flan-t5-xl\", use_api=False)\n",
    "\n",
    "    res = {}\n",
    "    embed_imgs = {}\n",
    "    embed_capt_res = {}\n",
    "\n",
    "    # N = len(os.listdir(imgs_folder))\n",
    "    random.seed(42)\n",
    "    N = 100\n",
    "    random_numbers = random.sample(range(len(os.listdir(imgs_folder))), N)\n",
    "\n",
    "    # for ix, file_name in enumerate(os.listdir(imgs_folder)[:N]):\n",
    "    for ix, file_name in enumerate(os.listdir(imgs_folder)):\n",
    "        \n",
    "        image_id, best_caption, img_feats, cpt_feats = caption_this_image(filename, imgs_folder, ix, random_numbers, image_manager, clip_manager, vocab_manager, flan_manager)\n",
    "        res[image_id] = [{\n",
    "            'image_id': image_id,\n",
    "            'id': image_id,\n",
    "            'caption': best_caption\n",
    "        }]\n",
    "        embed_imgs[image_id] = img_feats\n",
    "        embed_capt_res[image_id] = cpt_feats\n",
    "\n",
    "    # Saving the generated captions, image and generated caption embeddings\n",
    "    with open('cache/res.pickle', 'wb') as handle:\n",
    "        pickle.dump(res, handle, protocol=pickle.HIGHEST_PROTOCOL)\n",
    "    with open('cache/embed_imgs.pickle', 'wb') as handle:\n",
    "        pickle.dump(embed_imgs, handle, protocol=pickle.HIGHEST_PROTOCOL)\n",
    "    with open('cache/embed_capt_res.pickle', 'wb') as handle:\n",
    "        pickle.dump(embed_capt_res, handle, protocol=pickle.HIGHEST_PROTOCOL)\n",
    "else:\n",
    "    with open('cache/res.pickle', 'rb') as handle:\n",
    "        res = pickle.load(handle)"
   ]
  },
  {
   "cell_type": "markdown",
   "id": "c67bf01a",
   "metadata": {},
   "source": [
    "### Step 3: Evaluate the generated captions against the ground truth"
   ]
  },
  {
   "cell_type": "markdown",
   "id": "d1b8a1b6",
   "metadata": {},
   "source": [
    "#### Load the ground truth annotations"
   ]
  },
  {
   "cell_type": "code",
   "execution_count": null,
   "id": "ae5c606e",
   "metadata": {},
   "outputs": [],
   "source": [
    "with open(annotation_file, 'r') as f:\n",
    "    lines = json.load(f)['annotations']\n",
    "gts = {}\n",
    "for item in lines:\n",
    "    if item['image_id'] not in gts:\n",
    "        gts[item['image_id']] = []\n",
    "    gts[item['image_id']].append({'image_id': item['image_id'], 'caption': item['caption']})"
   ]
  },
  {
   "cell_type": "markdown",
   "id": "bdf9ec1f",
   "metadata": {},
   "source": [
    "#### Compute the embeddings for the gt captions"
   ]
  },
  {
   "cell_type": "code",
   "execution_count": null,
   "id": "56d189c6",
   "metadata": {},
   "outputs": [],
   "source": [
    "if not os.path.exists('cache/embed_capt_gt.pickle'):\n",
    "    embed_capt_gt = {}\n",
    "    for img_id, list_of_capt_dict in gts.items():\n",
    "        list_of_captions = [capt_dict['caption'] for capt_dict in list_of_capt_dict]\n",
    "\n",
    "        # Dims of img_feats_gt: 5 x 768\n",
    "        img_feats_gt = clip_manager.get_text_feats(list_of_captions)\n",
    "\n",
    "        embed_capt_gt[img_id] = img_feats_gt\n",
    "\n",
    "    with open('cache/embed_capt_gt.pickle', 'wb') as handle:\n",
    "        pickle.dump(embed_capt_gt, handle, protocol=pickle.HIGHEST_PROTOCOL)"
   ]
  },
  {
   "cell_type": "markdown",
   "id": "f38f2fd6",
   "metadata": {},
   "source": [
    "#### Evaluation"
   ]
  },
  {
   "cell_type": "code",
   "execution_count": null,
   "id": "a54e4f1a",
   "metadata": {},
   "outputs": [],
   "source": [
    "eval_cap = {}\n",
    "evaluator = SocraticEvalCap(gts, res)\n",
    "\n",
    "# Rule-based metrics\n",
    "evaluator.evaluate_rulebased()\n",
    "eval_rulebased = {}\n",
    "for metric, score in evaluator.eval.items():\n",
    "    print(f'{metric}: {score:.3f}')\n",
    "    eval_rulebased[metric] = round(score, 5)\n",
    "eval_cap['rulebased'] = eval_rulebased\n",
    "\n",
    "# Embedding-based metric\n",
    "evaluator.evaluate_cossim()\n",
    "for source_caption, sim in evaluator.sims.items():\n",
    "    print(f'{source_caption}: avg = {sim[0]:.3f}, std = {sim[1]:.3f}')\n",
    "eval_cap['cossim'] = evaluator.sims"
   ]
  },
  {
   "cell_type": "markdown",
   "id": "f032f6dc",
   "metadata": {},
   "source": [
    "#### Save the evaluation scores"
   ]
  },
  {
   "cell_type": "code",
   "execution_count": null,
   "id": "c4ebd489",
   "metadata": {},
   "outputs": [],
   "source": [
    "with open('eval_cap.pickle', 'wb') as handle:\n",
    "    pickle.dump(eval_cap, handle, protocol=pickle.HIGHEST_PROTOCOL)\n"
   ]
  },
  {
   "cell_type": "code",
   "execution_count": null,
   "id": "c4de7e86",
   "metadata": {},
   "outputs": [],
   "source": []
  },
  {
   "cell_type": "code",
   "execution_count": null,
   "id": "1d978a92",
   "metadata": {},
   "outputs": [],
   "source": []
  },
  {
   "cell_type": "code",
   "execution_count": null,
   "id": "cc23a959",
   "metadata": {},
   "outputs": [],
   "source": []
  },
  {
   "cell_type": "code",
   "execution_count": null,
   "id": "1ebdfa6c",
   "metadata": {},
   "outputs": [],
   "source": []
  },
  {
   "cell_type": "code",
   "execution_count": null,
   "id": "ed62587e",
   "metadata": {},
   "outputs": [],
   "source": []
  },
  {
   "cell_type": "code",
   "execution_count": null,
   "id": "a7588704",
   "metadata": {},
   "outputs": [],
   "source": []
  },
  {
   "cell_type": "code",
   "execution_count": null,
   "id": "58fa5df9",
   "metadata": {},
   "outputs": [],
   "source": []
  }
 ],
 "metadata": {
  "kernelspec": {
   "display_name": "Python 3 (ipykernel)",
   "language": "python",
   "name": "python3"
  },
  "language_info": {
   "codemirror_mode": {
    "name": "ipython",
    "version": 3
   },
   "file_extension": ".py",
   "mimetype": "text/x-python",
   "name": "python",
   "nbconvert_exporter": "python",
   "pygments_lexer": "ipython3",
   "version": "3.9.16"
  }
 },
 "nbformat": 4,
 "nbformat_minor": 5
}
