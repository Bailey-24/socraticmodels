{
 "cells": [
  {
   "cell_type": "markdown",
   "id": "655ff268",
   "metadata": {},
   "source": [
    "# SocraticFlanT5 - Evaluation | DL2 Mini-project, May 2023\n",
    "---\n",
    "\n",
    "This notebook downloads the images from the validation split of the [MS COCO Dataset (2017 version)](https://cocodataset.org/#download) and the corresponding ground-truth captions, generates captions based on the Socratic model pipeline outlined below, and evaluates the generated captions based on the MS COCO ground-truth captions. We will evaluate the folowing two approaches: \n",
    "1. Baseline: a Socratic model based on the work by [Zeng et al. (2022)](https://socraticmodels.github.io/) where GPT-3 is replaced by [FLAN-T5-xl](https://huggingface.co/docs/transformers/model_doc/flan-t5). \n",
    "\n",
    "2. Improved prompting: an improved baseline model where the template prompt filled by CLIP is processed before passing to FLAN-T5-xl.\n",
    "\n",
    "There are two approaches to this evaluation: rule-based and embedding-based.\n",
    "\n",
    "---\n",
    "For the **rule-based approach**, the following metrics will be used, based on [this](https://github.com/salaniz/pycocoevalcap) repository:\n",
    "\n",
    "* *BLEU-4*: BLEU (Bilingual Evaluation Understudy) is a metric that measures the similarity between the generated captions and the ground truth captions based on n-gram matching. The BLEU-4 score measures the precision of the generated captions up to four-grams compared to the ground truth captions.\n",
    "\n",
    "* *METEOR*: METEOR (Metric for Evaluation of Translation with Explicit ORdering) is another metric that measures the similarity between the generated captions and the ground truth captions. It also takes into account word order and synonymy by using a set of reference summaries to compute a harmonic mean of precision and recall.\n",
    "\n",
    "* *CIDEr*: CIDEr (Consensus-based Image Description Evaluation) is a metric that measures the consensus between the generated captions and the ground truth captions. It computes the similarity between the generated captions and the reference captions based on their TF-IDF weights, which helps capture important words in the captions.\n",
    "\n",
    "* *SPICE*: SPICE (Semantic Propositional Image Caption Evaluation) is a metric that measures the semantic similarity between the generated captions and the ground truth captions. It analyzes the similarity between the semantic propositions present in the generated captions and those in the reference captions, taking into account the structure and meaning of the propositions.\n",
    "\n",
    "* *ROUGE-L*: ROUGE (Recall-Oriented Understudy for Gisting Evaluation) is a metric that measures the similarity between the generated captions and the ground truth captions based on overlapping sequences of words. ROUGE-L measures the longest common subsequence (LCS) between the generated captions and the reference captions, taking into account sentence-level structure and word order.\n",
    "\n",
    "---\n",
    "\n",
    "For the **embedding-based** approach (based on CLIP embeddings), we calculate the cosine similarities between each image embedding and embeddings of the ground truth captions and then we calculate the cosine similarities between each image embedding and embeddings of the captions generated with FLAN-T5-xl."
   ]
  },
  {
   "cell_type": "markdown",
   "id": "6d3c0e08",
   "metadata": {},
   "source": [
    "<span style=\"color:#8B0000\">**Important**</span>: we assume that you have the generated captions accessible from the current directory via `cache/res_baseline.pickle` or `cache/res_improved.pickle` or both. If that is not the case, please run the following notebook:\n",
    "* `SocraticFlanT5 - Caption Generation.ipynb`"
   ]
  },
  {
   "cell_type": "markdown",
   "id": "136e331e",
   "metadata": {},
   "source": [
    "### Set-up"
   ]
  },
  {
   "cell_type": "markdown",
   "id": "d1503d1d",
   "metadata": {},
   "source": [
    "#### Loading the required packages"
   ]
  },
  {
   "cell_type": "code",
   "execution_count": 9,
   "id": "11989003",
   "metadata": {},
   "outputs": [],
   "source": [
    "from image_captioning import ClipManager, ImageManager, VocabManager, FlanT5Manager, COCOManager\n",
    "from eval import SocraticEvalCap\n",
    "from utils import get_device\n",
    "from transformers import set_seed\n",
    "import os\n",
    "import re\n",
    "import json\n",
    "import numpy as np\n",
    "import pickle\n",
    "import time\n",
    "import random\n",
    "import pandas as pd"
   ]
  },
  {
   "cell_type": "markdown",
   "id": "d1967d18",
   "metadata": {},
   "source": [
    "### Evaluate the generated captions against the ground truth"
   ]
  },
  {
   "cell_type": "markdown",
   "id": "ee44bc3d",
   "metadata": {},
   "source": [
    "#### Load the ground truth annotations"
   ]
  },
  {
   "cell_type": "code",
   "execution_count": null,
   "id": "b0daf97a",
   "metadata": {},
   "outputs": [],
   "source": [
    "imgs_folder = 'imgs/val2017/'\n",
    "annotation_file = 'annotations/annotations/captions_val2017.json'\n",
    "\n",
    "with open(annotation_file, 'r') as f:\n",
    "    lines = json.load(f)['annotations']\n",
    "gts = {}\n",
    "for item in lines:\n",
    "    if item['image_id'] not in gts:\n",
    "        gts[item['image_id']] = []\n",
    "    gts[item['image_id']].append({'image_id': item['image_id'], 'caption': item['caption']})"
   ]
  },
  {
   "cell_type": "markdown",
   "id": "d5d0ff84",
   "metadata": {},
   "source": [
    "#### Compute the embeddings for the gt captions"
   ]
  },
  {
   "cell_type": "code",
   "execution_count": null,
   "id": "b9b42d89",
   "metadata": {},
   "outputs": [],
   "source": [
    "if not os.path.exists('cache/embed_capt_gt.pickle'):\n",
    "    embed_capt_gt = {}\n",
    "    for img_id, list_of_capt_dict in gts.items():\n",
    "        list_of_captions = [capt_dict['caption'] for capt_dict in list_of_capt_dict]\n",
    "\n",
    "        # Dims of img_feats_gt: 5 x 768\n",
    "        img_feats_gt = clip_manager.get_text_feats(list_of_captions)\n",
    "\n",
    "        embed_capt_gt[img_id] = img_feats_gt\n",
    "\n",
    "    with open('cache/embed_capt_gt.pickle', 'wb') as handle:\n",
    "        pickle.dump(embed_capt_gt, handle, protocol=pickle.HIGHEST_PROTOCOL)"
   ]
  },
  {
   "cell_type": "code",
   "execution_count": null,
   "id": "cfcd621f",
   "metadata": {},
   "outputs": [],
   "source": []
  },
  {
   "cell_type": "code",
   "execution_count": null,
   "id": "8af0896a",
   "metadata": {},
   "outputs": [],
   "source": [
    "\n"
   ]
  },
  {
   "cell_type": "markdown",
   "id": "30577e5e",
   "metadata": {},
   "source": [
    "#### Evaluation"
   ]
  },
  {
   "cell_type": "code",
   "execution_count": null,
   "id": "7530ba94",
   "metadata": {},
   "outputs": [],
   "source": [
    "approaches = ['baseline', 'improved']\n",
    "eval_cap = {}\n",
    "\n",
    "for approach in approaches:\n",
    "    \n",
    "    caption_file_path = f'cache/res_{approach}.pickle'\n",
    "    caption_embed_file_path = f'cache/embed_capt_res_{approach}.pickle'\n",
    "    \n",
    "    # Load the generated captions, their embeddings, and image embeddings\n",
    "    with open(caption_file_path, 'rb') as handle:\n",
    "        res = pickle.load(handle) \n",
    "    evaluator = SocraticEvalCap(gts, res, approach=approach)\n",
    "\n",
    "    # Rule-based metrics\n",
    "    evaluator.evaluate_rulebased()\n",
    "    eval_rulebased = {}\n",
    "    for metric, score in evaluator.eval.items():\n",
    "        print(f'{metric}: {score:.3f}')\n",
    "        eval_rulebased[metric] = round(score, 5)\n",
    "    eval_cap[approach]['rulebased'] = eval_rulebased\n",
    "\n",
    "    # Embedding-based metric\n",
    "    evaluator.evaluate_cossim()\n",
    "    for source_caption, sim in evaluator.sims.items():\n",
    "        print(f'{source_caption}: avg = {sim[0]:.3f}, std = {sim[1]:.3f}')\n",
    "    eval_cap[approach]['cossim'] = evaluator.sims"
   ]
  },
  {
   "cell_type": "markdown",
   "id": "7305f506",
   "metadata": {},
   "source": [
    "#### Save the evaluation scores"
   ]
  },
  {
   "cell_type": "code",
   "execution_count": null,
   "id": "48481684",
   "metadata": {},
   "outputs": [],
   "source": [
    "with open('eval_cap.pickle', 'wb') as handle:\n",
    "    pickle.dump(eval_cap, handle, protocol=pickle.HIGHEST_PROTOCOL)"
   ]
  },
  {
   "cell_type": "code",
   "execution_count": null,
   "id": "9885ba34",
   "metadata": {},
   "outputs": [],
   "source": []
  }
 ],
 "metadata": {
  "kernelspec": {
   "display_name": "Python 3 (ipykernel)",
   "language": "python",
   "name": "python3"
  },
  "language_info": {
   "codemirror_mode": {
    "name": "ipython",
    "version": 3
   },
   "file_extension": ".py",
   "mimetype": "text/x-python",
   "name": "python",
   "nbconvert_exporter": "python",
   "pygments_lexer": "ipython3",
   "version": "3.9.16"
  }
 },
 "nbformat": 4,
 "nbformat_minor": 5
}
