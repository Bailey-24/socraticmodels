{
 "cells": [
  {
   "cell_type": "markdown",
   "id": "115a2f4a",
   "metadata": {},
   "source": [
    "# Prompting Flan-T5"
   ]
  },
  {
   "cell_type": "code",
   "execution_count": null,
   "id": "0376f966",
   "metadata": {},
   "outputs": [],
   "source": [
    "## conda activate newdl2"
   ]
  },
  {
   "cell_type": "code",
   "execution_count": null,
   "id": "2267e338",
   "metadata": {},
   "outputs": [],
   "source": [
    "# !pip install ruamel.yaml\n",
    "# !pip install profanity-filter\n",
    "# !pip install clip\n",
    "# !pip install 'git+https://github.com/openai/CLIP.git'\n",
    "# !pip install opencv-python-headless"
   ]
  },
  {
   "cell_type": "code",
   "execution_count": 1,
   "id": "1ea5d9e8",
   "metadata": {},
   "outputs": [],
   "source": [
    "## Required packages\n",
    "import os\n",
    "import requests\n",
    "import clip\n",
    "import cv2\n",
    "import matplotlib.pyplot as plt\n",
    "import numpy as np\n",
    "import openai\n",
    "from PIL import Image\n",
    "from profanity_filter import ProfanityFilter\n",
    "import torch"
   ]
  },
  {
   "cell_type": "code",
   "execution_count": null,
   "id": "f4e8b2c9",
   "metadata": {},
   "outputs": [],
   "source": []
  },
  {
   "cell_type": "code",
   "execution_count": null,
   "id": "6b00933f",
   "metadata": {},
   "outputs": [],
   "source": []
  },
  {
   "cell_type": "code",
   "execution_count": null,
   "id": "ac314fa4",
   "metadata": {},
   "outputs": [],
   "source": []
  },
  {
   "cell_type": "code",
   "execution_count": null,
   "id": "88e06634",
   "metadata": {},
   "outputs": [],
   "source": []
  }
 ],
 "metadata": {
  "kernelspec": {
   "display_name": "Python 3 (ipykernel)",
   "language": "python",
   "name": "python3"
  },
  "language_info": {
   "codemirror_mode": {
    "name": "ipython",
    "version": 3
   },
   "file_extension": ".py",
   "mimetype": "text/x-python",
   "name": "python",
   "nbconvert_exporter": "python",
   "pygments_lexer": "ipython3",
   "version": "3.9.16"
  }
 },
 "nbformat": 4,
 "nbformat_minor": 5
}
